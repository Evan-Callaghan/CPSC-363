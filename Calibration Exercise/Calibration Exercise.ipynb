{
 "cells": [
  {
   "cell_type": "code",
   "execution_count": null,
   "metadata": {},
   "outputs": [],
   "source": [
    "## CPSC-363 Software Development\n",
    "\n",
    "## Calibration Exercise - Evan Callaghan"
   ]
  },
  {
   "cell_type": "code",
   "execution_count": 44,
   "metadata": {},
   "outputs": [],
   "source": [
    "## Student class\n",
    "\n",
    "class Student:\n",
    "    def __init__(self, name = ''):\n",
    "        self.name = name\n",
    "        self.address = name + '.txt'\n",
    "    \n",
    "    ## Function to return student name\n",
    "    def get_name(self):\n",
    "        return self.name\n",
    "    \n",
    "    ## Function to return address of .txt file\n",
    "    def get_address(self):\n",
    "        return (self.address)\n",
    "    \n",
    "    ## Function to display student name and their goal statement\n",
    "    def display(self):\n",
    "        print(\"\\nStudent Goals:\")\n",
    "        with open(self.address) as f:\n",
    "            for line in f:\n",
    "                print(line)\n",
    "        print()\n",
    "        return"
   ]
  },
  {
   "cell_type": "code",
   "execution_count": 45,
   "metadata": {},
   "outputs": [],
   "source": [
    "## Week class\n",
    "\n",
    "class Week:\n",
    "    def __init__(self, week = 1):\n",
    "        self.week = week\n",
    "    \n",
    "    ## Function to return week number\n",
    "    def get_week(self):\n",
    "        return self.week\n",
    "    \n",
    "    ## Function to get the date for Monday of that week\n",
    "    def get_date(self):\n",
    "        mondays = ['Aug. 23', 'Aug. 30', 'Sept. 6', 'Sept. 13', 'Sept. 20', 'Sept. 27', 'Oct. 4', 'Oct. 11', 'Oct. 18', 'Oct. 25', 'Nov. 1', \n",
    "                   'Nov. 8', 'Nov. 15', 'Nov. 22', 'Nov. 29', 'Dec. 6']\n",
    "        week = self.week - 1\n",
    "        print('\\nWeek:', self.week, '    Start Date: Monday,', mondays[week], '\\n')"
   ]
  },
  {
   "cell_type": "code",
   "execution_count": 46,
   "metadata": {},
   "outputs": [],
   "source": [
    "## Main Method:\n",
    "\n",
    "## Inputting the class week number of interest\n",
    "week_number = int(input('Which week of the semester are you interested in? (Valid answers: 1 - 16)'))\n",
    "\n",
    "## Calling the Week class for the desired class week number\n",
    "monday = Week(week_number)\n",
    "monday.get_date()\n",
    "\n",
    "## Inputting the number of students to display\n",
    "number = int(input('How many students would you like to look up?'))\n",
    "\n",
    "## For loop to call the Student class for all desired students\n",
    "for i in range(number):\n",
    "    print(\"\\n-- Valid input is the full name of a student in CPSC-363 --\\n\")\n",
    "    student_name = input('Student Name: ')\n",
    "    student = Student(student_name)\n",
    "    student.display()\n",
    "\n",
    "print(\"-- End of Program --\")"
   ]
  }
 ],
 "metadata": {
  "kernelspec": {
   "display_name": "Python 3",
   "language": "python",
   "name": "python3"
  },
  "language_info": {
   "codemirror_mode": {
    "name": "ipython",
    "version": 3
   },
   "file_extension": ".py",
   "mimetype": "text/x-python",
   "name": "python",
   "nbconvert_exporter": "python",
   "pygments_lexer": "ipython3",
   "version": "3.8.3"
  }
 },
 "nbformat": 4,
 "nbformat_minor": 4
}
